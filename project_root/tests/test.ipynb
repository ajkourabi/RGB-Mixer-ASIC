{
 "cells": [
  {
   "cell_type": "code",
   "execution_count": 1,
   "metadata": {},
   "outputs": [],
   "source": [
    "import cocotb\n",
    "from cocotb.triggers import FallingEdge, Timer\n",
    "\n",
    "\n",
    "async def generate_clock(dut):\n",
    "    \"\"\"Generate clock pulses.\"\"\"\n",
    "\n",
    "    for cycle in range(10):\n",
    "        dut.clk.value = 0\n",
    "        await Timer(1, units=\"ns\")\n",
    "        dut.clk.value = 1\n",
    "        await Timer(1, units=\"ns\")\n",
    "\n",
    "\n",
    "@cocotb.test()\n",
    "async def my_second_test(dut):\n",
    "    \"\"\"Try accessing the design.\"\"\"\n",
    "\n",
    "    await cocotb.start(generate_clock(dut))  # run the clock \"in the background\"\n",
    "\n",
    "    await Timer(5, units=\"ns\")  # wait a bit\n",
    "    await FallingEdge(dut.clk)  # wait for falling edge/\"negedge\"\n",
    "\n",
    "    dut._log.info(\"my_signal_1 is %s\", dut.my_signal_1.value)\n",
    "    assert dut.my_signal_2.value[0] == 0, \"my_signal_2[0] is not 0!\""
   ]
  }
 ],
 "metadata": {
  "kernelspec": {
   "display_name": "Python 3",
   "language": "python",
   "name": "python3"
  },
  "language_info": {
   "codemirror_mode": {
    "name": "ipython",
    "version": 3
   },
   "file_extension": ".py",
   "mimetype": "text/x-python",
   "name": "python",
   "nbconvert_exporter": "python",
   "pygments_lexer": "ipython3",
   "version": "3.11.9"
  }
 },
 "nbformat": 4,
 "nbformat_minor": 2
}
