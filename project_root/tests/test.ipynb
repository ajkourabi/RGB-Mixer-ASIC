{
 "cells": [
  {
   "cell_type": "code",
   "execution_count": 1,
   "metadata": {},
   "outputs": [],
   "source": [
    "import cocotb\n",
    "from cocotb.triggers import Timer, RisingEdge\n",
    "from cocotb.clock import Clock\n",
    "\n",
    "@cocotb.test()\n",
    "async def test_rgb_led_driver(dut):\n",
    "    # Create a clock\n",
    "    clock = Clock(dut.clk, 10, units=\"ns\")\n",
    "    cocotb.start_soon(clock.start())\n",
    "\n",
    "    # Reset the design\n",
    "    dut.rst.value = 1\n",
    "    await Timer(20, units=\"ns\")\n",
    "    dut.rst.value = 0\n",
    "    \n",
    "    # Initialize inputs\n",
    "    dut.blue_A.value = 0\n",
    "    dut.blue_B.value = 0\n",
    "    dut.red_A.value = 0\n",
    "    dut.red_B.value = 0\n",
    "    dut.green_A.value = 0\n",
    "    dut.green_B.value = 0\n",
    "\n",
    "    # Wait a few clock cycles\n",
    "    for _ in range(5):\n",
    "        await RisingEdge(dut.clk)\n",
    "\n",
    "    # TODO: Add more specific tests here\n",
    "    \n",
    "    # Example: Check initial output values\n",
    "    assert dut.pwm_red.value == 0, f\"Expected pwm_red to be 0, but got {dut.pwm_red.value}\"\n",
    "    assert dut.pwm_green.value == 0, f\"Expected pwm_green to be 0, but got {dut.pwm_green.value}\"\n",
    "    assert dut.pwm_blue.value == 0, f\"Expected pwm_blue to be 0, but got {dut.pwm_blue.value}\""
   ]
  }
 ],
 "metadata": {
  "kernelspec": {
   "display_name": "Python 3",
   "language": "python",
   "name": "python3"
  },
  "language_info": {
   "codemirror_mode": {
    "name": "ipython",
    "version": 3
   },
   "file_extension": ".py",
   "mimetype": "text/x-python",
   "name": "python",
   "nbconvert_exporter": "python",
   "pygments_lexer": "ipython3",
   "version": "3.11.9"
  }
 },
 "nbformat": 4,
 "nbformat_minor": 2
}
